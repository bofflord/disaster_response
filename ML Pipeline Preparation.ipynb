{
 "cells": [
  {
   "cell_type": "markdown",
   "metadata": {},
   "source": [
    "# ML Pipeline Preparation\n",
    "Follow the instructions below to help you create your ML pipeline.\n",
    "### 1. Import libraries and load data from database.\n",
    "- Import Python libraries\n",
    "- Load dataset from database with [`read_sql_table`](https://pandas.pydata.org/pandas-docs/stable/generated/pandas.read_sql_table.html)\n",
    "- Define feature and target variables X and Y"
   ]
  },
  {
   "cell_type": "code",
   "execution_count": 1,
   "metadata": {},
   "outputs": [
    {
     "name": "stdout",
     "output_type": "stream",
     "text": [
      "[nltk_data] Downloading package punkt to /root/nltk_data...\n",
      "[nltk_data]   Unzipping tokenizers/punkt.zip.\n",
      "[nltk_data] Downloading package stopwords to /root/nltk_data...\n",
      "[nltk_data]   Unzipping corpora/stopwords.zip.\n",
      "[nltk_data] Downloading package wordnet to /root/nltk_data...\n",
      "[nltk_data]   Unzipping corpora/wordnet.zip.\n"
     ]
    }
   ],
   "source": [
    "# import libraries\n",
    "import pandas as pd\n",
    "import numpy as np\n",
    "# for sql lite db\n",
    "from sqlalchemy import create_engine\n",
    "# for pipeline\n",
    "from sklearn.pipeline import Pipeline, FeatureUnion\n",
    "# NLP libraries\n",
    "import re\n",
    "import nltk\n",
    "nltk.download(\"punkt\")\n",
    "nltk.download('stopwords')\n",
    "nltk.download('wordnet')\n",
    "from nltk.tokenize import word_tokenize\n",
    "from nltk.stem import WordNetLemmatizer\n",
    "from nltk.corpus import stopwords\n",
    "# library for multi target classification\n",
    "from sklearn.multioutput import MultiOutputClassifier\n",
    "# libraries for estimators\n",
    "from sklearn.svm import LinearSVC\n",
    "from sklearn.ensemble import RandomForestClassifier\n",
    "from sklearn.tree import DecisionTreeClassifier\n",
    "from sklearn.neighbors import KNeighborsClassifier\n",
    "\n",
    "# libraries for NLP feature extraction\n",
    "from sklearn.feature_extraction.text import CountVectorizer, TfidfTransformer\n",
    "# libraries for split in test and training data\n",
    "from sklearn.model_selection import train_test_split, GridSearchCV\n",
    "# libraries for model evaluation\n",
    "from sklearn.metrics import classification_report\n",
    "# pickle library to save machine learning model\n",
    "import pickle\n",
    "\n",
    "# keep workspace awake using a module from the Image Classifier Project\n",
    "from workspace_utils import active_session"
   ]
  },
  {
   "cell_type": "code",
   "execution_count": 2,
   "metadata": {},
   "outputs": [],
   "source": [
    "# load data from database\n",
    "engine = create_engine('sqlite:///InsertDatabaseName.db')\n",
    "df = pd.read_sql_table('InsertTableName', engine)"
   ]
  },
  {
   "cell_type": "code",
   "execution_count": 3,
   "metadata": {},
   "outputs": [
    {
     "data": {
      "text/plain": [
       "Index(['id', 'message', 'original', 'genre', 'related', 'request', 'offer',\n",
       "       'aid_related', 'medical_help', 'medical_products', 'search_and_rescue',\n",
       "       'security', 'military', 'child_alone', 'water', 'food', 'shelter',\n",
       "       'clothing', 'money', 'missing_people', 'refugees', 'death', 'other_aid',\n",
       "       'infrastructure_related', 'transport', 'buildings', 'electricity',\n",
       "       'tools', 'hospitals', 'shops', 'aid_centers', 'other_infrastructure',\n",
       "       'weather_related', 'floods', 'storm', 'fire', 'earthquake', 'cold',\n",
       "       'other_weather', 'direct_report'],\n",
       "      dtype='object')"
      ]
     },
     "execution_count": 3,
     "metadata": {},
     "output_type": "execute_result"
    }
   ],
   "source": [
    "# Definition of text and categories\n",
    "df.columns"
   ]
  },
  {
   "cell_type": "code",
   "execution_count": 4,
   "metadata": {},
   "outputs": [],
   "source": [
    "X = df[\"message\"].values\n",
    "Y = df.drop([\"id\", \"message\", \"original\", \"genre\"], axis=1).values"
   ]
  },
  {
   "cell_type": "markdown",
   "metadata": {},
   "source": [
    "### 2. Write a tokenization function to process your text data"
   ]
  },
  {
   "cell_type": "code",
   "execution_count": 5,
   "metadata": {},
   "outputs": [],
   "source": [
    "def tokenize(text):\n",
    "    # Normalize text\n",
    "    text = re.sub(r\"[^a-zA-Z0-9]\", \" \", text.lower())\n",
    "    words = word_tokenize(text)\n",
    "    # Remove stop words\n",
    "    words = [w for w in words if w not in stopwords.words(\"english\")]\n",
    "    lemmatizer = WordNetLemmatizer()\n",
    "    clean_tokens = []\n",
    "    for word in words:\n",
    "        lemmatized_word = lemmatizer.lemmatize(word)\n",
    "        clean_tokens.append(lemmatized_word)\n",
    "    return clean_tokens"
   ]
  },
  {
   "cell_type": "code",
   "execution_count": 6,
   "metadata": {},
   "outputs": [
    {
     "name": "stdout",
     "output_type": "stream",
     "text": [
      "Weather update - a cold front from Cuba that could pass over Haiti\n"
     ]
    },
    {
     "data": {
      "text/plain": [
       "['weather', 'update', 'cold', 'front', 'cuba', 'could', 'pas', 'haiti']"
      ]
     },
     "execution_count": 6,
     "metadata": {},
     "output_type": "execute_result"
    }
   ],
   "source": [
    "# for testing only\n",
    "test_string = df[\"message\"].values[0]\n",
    "print(test_string)\n",
    "clean_tokens = tokenize(test_string)\n",
    "clean_tokens"
   ]
  },
  {
   "cell_type": "markdown",
   "metadata": {},
   "source": [
    "### 3. Build a machine learning pipeline\n",
    "This machine pipeline should take in the `message` column as input and output classification results on the other 36 categories in the dataset. You may find the [MultiOutputClassifier](http://scikit-learn.org/stable/modules/generated/sklearn.multioutput.MultiOutputClassifier.html) helpful for predicting multiple target variables."
   ]
  },
  {
   "cell_type": "code",
   "execution_count": 7,
   "metadata": {},
   "outputs": [],
   "source": [
    "#forest = RandomForestClassifier(n_estimators=100, random_state=1)\n",
    "#classifier = MultiOutputClassifier(forest, n_jobs=-1)\n",
    "# classifier choice: https://scikit-learn.org/stable/tutorial/machine_learning_map/index.html\n",
    "# recommendation is either Linear SVC or Naive Bayes"
   ]
  },
  {
   "cell_type": "code",
   "execution_count": 8,
   "metadata": {},
   "outputs": [],
   "source": [
    "pipeline = Pipeline([\n",
    "    ('vect', CountVectorizer(tokenizer=tokenize)),\n",
    "    ('tfidf', TfidfTransformer()),\n",
    "    #('clf', MultiOutputClassifier(LinearSVC(), n_jobs=-1))\n",
    "    ('clf', MultiOutputClassifier(RandomForestClassifier()))\n",
    "])"
   ]
  },
  {
   "cell_type": "markdown",
   "metadata": {},
   "source": [
    "### 4. Train pipeline\n",
    "- Split data into train and test sets\n",
    "- Train pipeline"
   ]
  },
  {
   "cell_type": "code",
   "execution_count": 9,
   "metadata": {},
   "outputs": [],
   "source": [
    "X_train, X_test, y_train, y_test = train_test_split(X, Y)"
   ]
  },
  {
   "cell_type": "code",
   "execution_count": 10,
   "metadata": {},
   "outputs": [
    {
     "data": {
      "text/plain": [
       "Pipeline(memory=None,\n",
       "     steps=[('vect', CountVectorizer(analyzer='word', binary=False, decode_error='strict',\n",
       "        dtype=<class 'numpy.int64'>, encoding='utf-8', input='content',\n",
       "        lowercase=True, max_df=1.0, max_features=None, min_df=1,\n",
       "        ngram_range=(1, 1), preprocessor=None, stop_words=None,\n",
       "        strip...oob_score=False, random_state=None, verbose=0,\n",
       "            warm_start=False),\n",
       "           n_jobs=1))])"
      ]
     },
     "execution_count": 10,
     "metadata": {},
     "output_type": "execute_result"
    }
   ],
   "source": [
    "# train classifier\n",
    "pipeline.fit(X_train, y_train)"
   ]
  },
  {
   "cell_type": "markdown",
   "metadata": {},
   "source": [
    "### 5. Test your model\n",
    "Report the f1 score, precision and recall for each output category of the dataset. You can do this by iterating through the columns and calling sklearn's `classification_report` on each."
   ]
  },
  {
   "cell_type": "code",
   "execution_count": 11,
   "metadata": {},
   "outputs": [
    {
     "name": "stdout",
     "output_type": "stream",
     "text": [
      "output category in column 0: related\n",
      "             precision    recall  f1-score   support\n",
      "\n",
      "          0       0.63      0.47      0.54      1529\n",
      "          1       0.85      0.91      0.88      4975\n",
      "          2       0.18      0.24      0.21        50\n",
      "\n",
      "avg / total       0.79      0.80      0.80      6554\n",
      "\n",
      "output category in column 1: request\n",
      "             precision    recall  f1-score   support\n",
      "\n",
      "          0       0.90      0.97      0.93      5459\n",
      "          1       0.78      0.43      0.55      1095\n",
      "\n",
      "avg / total       0.88      0.88      0.87      6554\n",
      "\n",
      "output category in column 2: offer\n",
      "             precision    recall  f1-score   support\n",
      "\n",
      "          0       1.00      1.00      1.00      6524\n",
      "          1       0.00      0.00      0.00        30\n",
      "\n",
      "avg / total       0.99      1.00      0.99      6554\n",
      "\n",
      "output category in column 3: aid_related\n",
      "             precision    recall  f1-score   support\n",
      "\n",
      "          0       0.73      0.88      0.80      3808\n",
      "          1       0.77      0.55      0.64      2746\n",
      "\n",
      "avg / total       0.74      0.74      0.73      6554\n",
      "\n",
      "output category in column 4: medical_help\n",
      "             precision    recall  f1-score   support\n",
      "\n",
      "          0       0.93      1.00      0.96      6041\n",
      "          1       0.64      0.10      0.18       513\n",
      "\n",
      "avg / total       0.91      0.93      0.90      6554\n",
      "\n",
      "output category in column 5: medical_products\n",
      "             precision    recall  f1-score   support\n",
      "\n",
      "          0       0.96      1.00      0.98      6243\n",
      "          1       0.68      0.10      0.17       311\n",
      "\n",
      "avg / total       0.94      0.95      0.94      6554\n",
      "\n",
      "output category in column 6: search_and_rescue\n",
      "             precision    recall  f1-score   support\n",
      "\n",
      "          0       0.97      1.00      0.99      6369\n",
      "          1       0.61      0.09      0.16       185\n",
      "\n",
      "avg / total       0.96      0.97      0.96      6554\n",
      "\n",
      "output category in column 7: security\n",
      "             precision    recall  f1-score   support\n",
      "\n",
      "          0       0.98      1.00      0.99      6428\n",
      "          1       0.00      0.00      0.00       126\n",
      "\n",
      "avg / total       0.96      0.98      0.97      6554\n",
      "\n",
      "output category in column 8: military\n",
      "             precision    recall  f1-score   support\n",
      "\n",
      "          0       0.97      1.00      0.98      6324\n",
      "          1       0.57      0.07      0.12       230\n",
      "\n",
      "avg / total       0.95      0.97      0.95      6554\n",
      "\n",
      "output category in column 9: child_alone\n",
      "             precision    recall  f1-score   support\n",
      "\n",
      "          0       1.00      1.00      1.00      6554\n",
      "\n",
      "avg / total       1.00      1.00      1.00      6554\n",
      "\n",
      "output category in column 10: water\n",
      "             precision    recall  f1-score   support\n",
      "\n",
      "          0       0.96      1.00      0.98      6150\n",
      "          1       0.84      0.29      0.43       404\n",
      "\n",
      "avg / total       0.95      0.95      0.94      6554\n",
      "\n",
      "output category in column 11: food\n",
      "             precision    recall  f1-score   support\n",
      "\n",
      "          0       0.94      0.99      0.96      5866\n",
      "          1       0.81      0.46      0.59       688\n",
      "\n",
      "avg / total       0.93      0.93      0.92      6554\n",
      "\n",
      "output category in column 12: shelter\n",
      "             precision    recall  f1-score   support\n",
      "\n",
      "          0       0.93      0.99      0.96      5976\n",
      "          1       0.78      0.28      0.41       578\n",
      "\n",
      "avg / total       0.92      0.93      0.91      6554\n",
      "\n",
      "output category in column 13: clothing\n",
      "             precision    recall  f1-score   support\n",
      "\n",
      "          0       0.99      1.00      0.99      6452\n",
      "          1       0.57      0.08      0.14       102\n",
      "\n",
      "avg / total       0.98      0.98      0.98      6554\n",
      "\n",
      "output category in column 14: money\n",
      "             precision    recall  f1-score   support\n",
      "\n",
      "          0       0.98      1.00      0.99      6399\n",
      "          1       0.67      0.03      0.05       155\n",
      "\n",
      "avg / total       0.97      0.98      0.97      6554\n",
      "\n",
      "output category in column 15: missing_people\n",
      "             precision    recall  f1-score   support\n",
      "\n",
      "          0       0.99      1.00      0.99      6480\n",
      "          1       0.00      0.00      0.00        74\n",
      "\n",
      "avg / total       0.98      0.99      0.98      6554\n",
      "\n",
      "output category in column 16: refugees\n",
      "             precision    recall  f1-score   support\n",
      "\n",
      "          0       0.97      1.00      0.98      6321\n",
      "          1       0.85      0.05      0.09       233\n",
      "\n",
      "avg / total       0.96      0.97      0.95      6554\n",
      "\n",
      "output category in column 17: death\n",
      "             precision    recall  f1-score   support\n",
      "\n",
      "          0       0.96      1.00      0.98      6262\n",
      "          1       0.73      0.16      0.26       292\n",
      "\n",
      "avg / total       0.95      0.96      0.95      6554\n",
      "\n",
      "output category in column 18: other_aid\n",
      "             precision    recall  f1-score   support\n",
      "\n",
      "          0       0.87      0.99      0.93      5672\n",
      "          1       0.47      0.04      0.08       882\n",
      "\n",
      "avg / total       0.82      0.86      0.81      6554\n",
      "\n",
      "output category in column 19: infrastructure_related\n",
      "             precision    recall  f1-score   support\n",
      "\n",
      "          0       0.93      1.00      0.96      6123\n",
      "          1       0.12      0.00      0.01       431\n",
      "\n",
      "avg / total       0.88      0.93      0.90      6554\n",
      "\n",
      "output category in column 20: transport\n",
      "             precision    recall  f1-score   support\n",
      "\n",
      "          0       0.96      1.00      0.98      6235\n",
      "          1       0.66      0.08      0.15       319\n",
      "\n",
      "avg / total       0.94      0.95      0.94      6554\n",
      "\n",
      "output category in column 21: buildings\n",
      "             precision    recall  f1-score   support\n",
      "\n",
      "          0       0.95      1.00      0.98      6207\n",
      "          1       0.75      0.14      0.23       347\n",
      "\n",
      "avg / total       0.94      0.95      0.94      6554\n",
      "\n",
      "output category in column 22: electricity\n",
      "             precision    recall  f1-score   support\n",
      "\n",
      "          0       0.98      1.00      0.99      6412\n",
      "          1       0.50      0.04      0.07       142\n",
      "\n",
      "avg / total       0.97      0.98      0.97      6554\n",
      "\n",
      "output category in column 23: tools\n",
      "             precision    recall  f1-score   support\n",
      "\n",
      "          0       0.99      1.00      1.00      6508\n",
      "          1       0.00      0.00      0.00        46\n",
      "\n",
      "avg / total       0.99      0.99      0.99      6554\n",
      "\n",
      "output category in column 24: hospitals\n",
      "             precision    recall  f1-score   support\n",
      "\n",
      "          0       0.99      1.00      0.99      6483\n",
      "          1       0.00      0.00      0.00        71\n",
      "\n",
      "avg / total       0.98      0.99      0.98      6554\n",
      "\n",
      "output category in column 25: shops\n",
      "             precision    recall  f1-score   support\n",
      "\n",
      "          0       1.00      1.00      1.00      6524\n",
      "          1       0.00      0.00      0.00        30\n",
      "\n",
      "avg / total       0.99      1.00      0.99      6554\n",
      "\n",
      "output category in column 26: aid_centers\n",
      "             precision    recall  f1-score   support\n",
      "\n",
      "          0       0.99      1.00      0.99      6479\n",
      "          1       0.00      0.00      0.00        75\n",
      "\n",
      "avg / total       0.98      0.99      0.98      6554\n",
      "\n",
      "output category in column 27: other_infrastructure\n",
      "             precision    recall  f1-score   support\n",
      "\n",
      "          0       0.96      1.00      0.98      6260\n",
      "          1       0.25      0.01      0.02       294\n",
      "\n",
      "avg / total       0.92      0.95      0.93      6554\n",
      "\n",
      "output category in column 28: weather_related\n",
      "             precision    recall  f1-score   support\n",
      "\n",
      "          0       0.87      0.94      0.91      4765\n",
      "          1       0.81      0.63      0.71      1789\n",
      "\n",
      "avg / total       0.86      0.86      0.85      6554\n",
      "\n",
      "output category in column 29: floods\n",
      "             precision    recall  f1-score   support\n",
      "\n",
      "          0       0.94      1.00      0.97      6019\n",
      "          1       0.90      0.32      0.47       535\n",
      "\n",
      "avg / total       0.94      0.94      0.93      6554\n",
      "\n",
      "output category in column 30: storm\n",
      "             precision    recall  f1-score   support\n",
      "\n",
      "          0       0.95      0.99      0.97      5971\n",
      "          1       0.76      0.49      0.60       583\n",
      "\n",
      "avg / total       0.93      0.94      0.94      6554\n",
      "\n",
      "output category in column 31: fire\n",
      "             precision    recall  f1-score   support\n",
      "\n",
      "          0       0.99      1.00      0.99      6479\n",
      "          1       1.00      0.05      0.10        75\n",
      "\n",
      "avg / total       0.99      0.99      0.98      6554\n",
      "\n",
      "output category in column 32: earthquake\n",
      "             precision    recall  f1-score   support\n",
      "\n",
      "          0       0.97      0.99      0.98      5958\n",
      "          1       0.87      0.64      0.74       596\n",
      "\n",
      "avg / total       0.96      0.96      0.96      6554\n",
      "\n",
      "output category in column 33: cold\n",
      "             precision    recall  f1-score   support\n",
      "\n",
      "          0       0.98      1.00      0.99      6419\n",
      "          1       0.75      0.09      0.16       135\n",
      "\n",
      "avg / total       0.98      0.98      0.97      6554\n",
      "\n",
      "output category in column 34: other_weather\n",
      "             precision    recall  f1-score   support\n",
      "\n",
      "          0       0.95      1.00      0.97      6203\n",
      "          1       0.39      0.05      0.09       351\n",
      "\n",
      "avg / total       0.92      0.94      0.92      6554\n",
      "\n",
      "output category in column 35: direct_report\n",
      "             precision    recall  f1-score   support\n",
      "\n",
      "          0       0.86      0.97      0.91      5309\n",
      "          1       0.73      0.33      0.45      1245\n",
      "\n",
      "avg / total       0.83      0.85      0.82      6554\n",
      "\n"
     ]
    },
    {
     "name": "stderr",
     "output_type": "stream",
     "text": [
      "/opt/conda/lib/python3.6/site-packages/sklearn/metrics/classification.py:1135: UndefinedMetricWarning: Precision and F-score are ill-defined and being set to 0.0 in labels with no predicted samples.\n",
      "  'precision', 'predicted', average, warn_for)\n"
     ]
    }
   ],
   "source": [
    "# predict on test data\n",
    "y_pred = pipeline.predict(X_test)\n",
    "\n",
    "output_categories = df.drop([\"id\", \"message\", \"original\", \"genre\"], axis=1).columns\n",
    "\n",
    "# Todo:  iterating through the category columns\n",
    "index = 0\n",
    "for category in output_categories:\n",
    "    print(\"output category in column {}: {}\".format(index, category))\n",
    "    evaluation_report = classification_report(y_test[:,index], y_pred[:,index])\n",
    "    index += 1\n",
    "    print(evaluation_report)"
   ]
  },
  {
   "cell_type": "markdown",
   "metadata": {
    "scrolled": false
   },
   "source": [
    "### 6. Improve your model\n",
    "Use grid search to find better parameters. "
   ]
  },
  {
   "cell_type": "code",
   "execution_count": 12,
   "metadata": {},
   "outputs": [],
   "source": [
    "parameters = {#'clf__estimator': [RandomForestClassifier()],\n",
    "     #'clf__estimator__n_estimators': [50, 100, 200],\n",
    "     #'clf__estimator__criterion': [\"gini\", \"entropy\"]     \n",
    "     #'clf__estimator__bootstrap': [True, False],\n",
    "     #'clf__estimator__max_depth': [10, 50, 100, None],\n",
    "     #'clf__estimator__max_features': ['auto', 'sqrt'],\n",
    "     'clf__estimator__min_samples_leaf': [1, 2, 4],\n",
    "     'clf__estimator__min_samples_split': [2, 5, 10],\n",
    "     #'clf__estimator__n_jobs':[-1]\n",
    "    }\n",
    "\n",
    "cv = GridSearchCV(pipeline, parameters)"
   ]
  },
  {
   "cell_type": "markdown",
   "metadata": {},
   "source": [
    "### 7. Test your model\n",
    "Show the accuracy, precision, and recall of the tuned model.  \n",
    "\n",
    "Since this project focuses on code quality, process, and  pipelines, there is no minimum performance metric needed to pass. However, make sure to fine tune your models for accuracy, precision and recall to make your project stand out - especially for your portfolio!"
   ]
  },
  {
   "cell_type": "code",
   "execution_count": 13,
   "metadata": {},
   "outputs": [],
   "source": [
    "# converting to numpy array due to error from GridSearch\n",
    "X_train_debug = np.asarray(X_train)\n",
    "y_train_debug = np.asarray(y_train)"
   ]
  },
  {
   "cell_type": "code",
   "execution_count": null,
   "metadata": {},
   "outputs": [],
   "source": [
    "# keep workspace awake using a module from the Image Classifier Project\n",
    "from workspace_utils import active_session\n",
    "\n",
    "with active_session():\n",
    "    # do long-running work here\n",
    "    cv.fit(X_train_debug, y_train_debug)\n",
    "\n",
    "print(\"\\nBest Parameters:\", cv.best_params_)\n",
    "\n",
    "cv.best_score_\n",
    "\n",
    "best_model = cv.best_estimator_\n",
    "\n",
    "y_pred_gridsearch = best_model.predict(X_test)\n",
    "\n",
    "# Todo:  iterating through the category columns\n",
    "index = 0\n",
    "for category in output_categories:\n",
    "    print(\"output category in column {}: {}\".format(index, category))\n",
    "    evaluation_report = classification_report(y_test[:,index], y_pred_gridsearch[:,index])\n",
    "    index += 1\n",
    "    print(evaluation_report)"
   ]
  },
  {
   "cell_type": "markdown",
   "metadata": {},
   "source": [
    "### 8. Try improving your model further. Here are a few ideas:\n",
    "* try other machine learning algorithms\n",
    "* add other features besides the TF-IDF"
   ]
  },
  {
   "cell_type": "code",
   "execution_count": null,
   "metadata": {},
   "outputs": [],
   "source": [
    "#models = [RandomForestClassifier(), DecisionTreeClassifier(), KNeighborsClassifier()]\n",
    "models = [DecisionTreeClassifier(), KNeighborsClassifier()]\n",
    "\n",
    "parameters_list = [\n",
    "    {#'clf__estimator': [DecisionTreeClassifier()],\n",
    "     'clf__estimator__criterion': [\"gini\", \"entropy\"],\n",
    "     'clf__estimator__max_depth': [np.arange(5,20)]\n",
    "    },\n",
    "    {#'clf__estimator': [KNeighborsClassifier()],\n",
    "     'clf__estimator__n_neighbors': [np.arange(3,10)]\n",
    "    }\n",
    "] \n",
    "\n"
   ]
  },
  {
   "cell_type": "code",
   "execution_count": null,
   "metadata": {},
   "outputs": [],
   "source": [
    "def perform_gridsearch_model_and_parameters(model, parameters):\n",
    "    '''\n",
    "    Function for gridsearch on model and parameters.\n",
    "    \n",
    "    ARGS:\n",
    "    model:\n",
    "    parameters: parameters in gridsearch for model\n",
    "    \n",
    "    OUTPUT:\n",
    "    cv: GridSearch model\n",
    "    \n",
    "    '''  \n",
    "    pipeline = Pipeline([\n",
    "        ('vect', CountVectorizer(tokenizer=tokenize)),\n",
    "        ('tfidf', TfidfTransformer()),\n",
    "        ('clf', MultiOutputClassifier(model))\n",
    "    ])\n",
    "    cv = GridSearchCV(pipeline,parameters)\n",
    "    \n",
    "    return cv\n",
    "\n",
    "def evaluate_model_performance(model, X_test, y_test, output_categories):\n",
    "    y_pred_gridsearch = model.predict(X_test)\n",
    "\n",
    "    # Todo:  iterating through the category columns\n",
    "    index = 0\n",
    "    for category in output_categories:\n",
    "        print(\"output category in column {}: {}\".format(index, category))\n",
    "        evaluation_report = classification_report(y_test[:,index], y_pred_gridsearch[:,index])\n",
    "        index += 1\n",
    "        print(evaluation_report)\n",
    "        \n"
   ]
  },
  {
   "cell_type": "code",
   "execution_count": null,
   "metadata": {},
   "outputs": [],
   "source": [
    "with active_session():\n",
    "    # do long-running work here\n",
    "    for model, parameters in zip(models, parameters_list):\n",
    "        cv = perform_gridsearch_model_and_parameters(model, parameters)\n",
    "        cv.fit(X_train_debug, y_train_debug)\n",
    "        print(\"\\nBest Parameters:\", cv.best_params_)\n",
    "        print(\"Best score: \", cv.best_score_)\n",
    "        best_model = cv.best_estimator_\n",
    "        evaluate_model_performance(best_model, X_test, y_test, output_categories)"
   ]
  },
  {
   "cell_type": "code",
   "execution_count": null,
   "metadata": {},
   "outputs": [],
   "source": []
  },
  {
   "cell_type": "code",
   "execution_count": null,
   "metadata": {},
   "outputs": [],
   "source": []
  },
  {
   "cell_type": "markdown",
   "metadata": {},
   "source": [
    "### 9. Export your model as a pickle file"
   ]
  },
  {
   "cell_type": "code",
   "execution_count": 24,
   "metadata": {},
   "outputs": [],
   "source": [
    "filename = \"classifier.pkl\"\n",
    "pickle.dump(best_model, open(filename, \"wb\"))"
   ]
  },
  {
   "cell_type": "markdown",
   "metadata": {},
   "source": [
    "### 10. Use this notebook to complete `train.py`\n",
    "Use the template file attached in the Resources folder to write a script that runs the steps above to create a database and export a model based on a new dataset specified by the user."
   ]
  },
  {
   "cell_type": "code",
   "execution_count": null,
   "metadata": {},
   "outputs": [],
   "source": []
  },
  {
   "cell_type": "code",
   "execution_count": null,
   "metadata": {},
   "outputs": [],
   "source": [
    "'''\n",
    "parameters_list = [\n",
    "    '''\n",
    "    {'clf__estimator': [RandomForestClassifier()],\n",
    "     'clf__estimator__n_estimators': [50, 100, 200],\n",
    "     'clf__estimator__criterion': [\"gini\", \"entropy\"],     \n",
    "     'clf__estimator__bootstrap': [True, False],\n",
    "     'clf__estimator__max_depth': [10, 50, 100, None],\n",
    "     'clf__estimator__max_features': ['auto', 'sqrt'],\n",
    "     'clf__estimator__min_samples_leaf': [1, 2, 4],\n",
    "     'clf__estimator__min_samples_split': [2, 5, 10],\n",
    "     'clf__estimator__n_jobs':[-1]\n",
    "    }\n",
    "    '''\n",
    "    {'clf__estimator': [DecisionTreeClassifier()],\n",
    "     'clf__estimator__criterion': [\"gini\", \"entropy\"],\n",
    "     'clf__estimator__max_depth': [np.arange(5,20)]\n",
    "    },\n",
    "    {'clf__estimator': [KNeighborsClassifier()],\n",
    "     'clf__estimator__n_neighbors': [np.arange(3,10)],\n",
    "     'clf__estimator__n_jobs':[-1]\n",
    "    },\n",
    "]    \n",
    "'''"
   ]
  }
 ],
 "metadata": {
  "kernelspec": {
   "display_name": "Python 3",
   "language": "python",
   "name": "python3"
  },
  "language_info": {
   "codemirror_mode": {
    "name": "ipython",
    "version": 3
   },
   "file_extension": ".py",
   "mimetype": "text/x-python",
   "name": "python",
   "nbconvert_exporter": "python",
   "pygments_lexer": "ipython3",
   "version": "3.6.3"
  }
 },
 "nbformat": 4,
 "nbformat_minor": 2
}
